{
  "cells": [
    {
      "cell_type": "raw",
      "metadata": {},
      "source": [
        "---\n",
        "title: 'Building Blocks of Transformers: 1. Self Attention'\n",
        "format:\n",
        "  html:\n",
        "    code-fold: true\n",
        "execute:\n",
        "  echo: false\n",
        "author: Haad Khan\n",
        "date: '2023-10-01'\n",
        "categories:\n",
        "  - Attention\n",
        "  - Transformers\n",
        "  - Machine Learning\n",
        "---"
      ],
      "id": "cb7c9ab1"
    },
    {
      "cell_type": "markdown",
      "metadata": {},
      "source": [
        "<p>I had a garbled understanding of Transformer architecture after consulting blogs, videos and coursera course. What made it finally clicked for me is Stanford CS 224N lecture by John Hewitt. He does a phenomenal job and I will strongly encourage to check it out. If you work with LLM's the 1 hour and 17 minutes is worth the time investment.</p> \n",
        "[Stanford CS224N NLP | Lecture 8 - Self-Attention and Transformers](https://youtu.be/nTQUwghvy5Q)\n",
        "<p>Before diving into the details of transformer a little history.<br></p>\n",
        "\n",
        "#### Motivation for Transformers\n",
        "\n",
        "<p>Prior to introduction of Transformers, the state of the art algorithm for acheiving state of the art results on various NLP tasks were RNN's and its variants e.g LSTM, BiDirectional LSTM etc.\n",
        "While the sequential nature of RNN lend itself well to modelling sequential data, it had some issues. The major ones being the following.</br>\n",
        "\n",
        "**a). Linear interaction distance**\n",
        "\n",
        "**b). Lack of parallelizability**\n",
        "\n",
        "Transformer solve the above problems but have their own issues which will come up later. Transformer is illustrated by the diagram below.</br>\n",
        " ![transformer-model-architecture](The-Transformer-model-architecture.jpg){width=300}\n",
        "\n",
        "The diagram is complex but when approached as a submodules the algorithm is composed of its starts to make sense. In this note the submodule we will look at it Self-Attention.\n",
        "\n",
        "The words from natural language go through a text encoder. Numerous technqiues exist for encoding, but in the paper the choice authors made is of using byte pair encoding. [Here](https://huggingface.co/learn/nlp-course/chapter6/5) is a good explainer for byte pair encoding. \n",
        "\n",
        "The result of an encoder is a vector for each of the word. \n",
        "\n",
        "The main idea behind self-attention is that instead of using a fixed embedding for each token, we can use the whole sequence to compute a weighted average of each embedding. Another way to formulate this is to say that given a sequence of token embeddings x1, ..., xn, self-attention produces a sequence of new embeddings x1′ , ..., xn′ where each x′i is a linear combination of all the xj:\n",
        "\n",
        "References\n",
        "1). https://en.wikipedia.org/wiki/Transformer_(machine_learning_model)#/media/File:The-Transformer-model-architecture.png\n",
        "1). A. Vaswani, N. Shazeer, N. Parmar, J. Uszkoreit, L. Jones, A. N. Gomez, Ł. Kaiser, and I. Polosukhin.\n",
        "Attention is all you need. In Advances in Neural Information Processing Systems, pages 6000–6010, 2017\n",
        "2). Stanford Course Link\n",
        "3). Stanford Doc link\n",
        "4). https://huggingface.co/learn/nlp-course/chapter6/5?fw=pt\n",
        "</p>"
      ],
      "id": "4dcfab0f"
    }
  ],
  "metadata": {
    "kernelspec": {
      "display_name": "Python 3",
      "language": "python",
      "name": "python3"
    }
  },
  "nbformat": 4,
  "nbformat_minor": 5
}